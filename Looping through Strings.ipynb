{
 "cells": [
  {
   "cell_type": "code",
   "execution_count": 1,
   "id": "8abdad5b",
   "metadata": {},
   "outputs": [
    {
     "name": "stdout",
     "output_type": "stream",
     "text": [
      "Learning Loops!\n",
      "Learning Loops!\n",
      "Learning Loops!\n",
      "Learning Loops!\n",
      "Learning Loops!\n",
      "Learning Loops!\n"
     ]
    }
   ],
   "source": [
    "#range\n",
    "for temp in range(6):   #will run through 6 times\n",
    "  print(\"Learning Loops!\")"
   ]
  },
  {
   "cell_type": "code",
   "execution_count": 2,
   "id": "635cace9",
   "metadata": {},
   "outputs": [
    {
     "name": "stdout",
     "output_type": "stream",
     "text": [
      "5\n",
      "5\n",
      "5\n"
     ]
    }
   ],
   "source": [
    "for i in range(3):\n",
    "  print(5)"
   ]
  },
  {
   "cell_type": "code",
   "execution_count": 3,
   "id": "b0f39e67",
   "metadata": {},
   "outputs": [
    {
     "name": "stdout",
     "output_type": "stream",
     "text": [
      "0\n",
      "1\n",
      "2\n"
     ]
    }
   ],
   "source": [
    "for i in range(3):      #i is a variable nanme, it won't be printed\n",
    "  print(i)"
   ]
  },
  {
   "cell_type": "markdown",
   "id": "615a771b",
   "metadata": {},
   "source": [
    "1.\n",
    "Use the range() function in a for loop to print() out the provided promise variable five times."
   ]
  },
  {
   "cell_type": "code",
   "execution_count": 4,
   "id": "e4162c24",
   "metadata": {},
   "outputs": [
    {
     "name": "stdout",
     "output_type": "stream",
     "text": [
      "I will finish the python loops module!\n",
      "I will finish the python loops module!\n",
      "I will finish the python loops module!\n",
      "I will finish the python loops module!\n",
      "I will finish the python loops module!\n"
     ]
    }
   ],
   "source": [
    "promise = \"I will finish the python loops module!\"\n",
    "for promise in range(5):\n",
    "  print(\"I will finish the python loops module!\")"
   ]
  },
  {
   "cell_type": "code",
   "execution_count": 5,
   "id": "0183567b",
   "metadata": {},
   "outputs": [
    {
     "name": "stdout",
     "output_type": "stream",
     "text": [
      "0\n",
      "1\n",
      "2\n",
      "3\n",
      "4\n"
     ]
    }
   ],
   "source": [
    "for promise in range(5):   #promise is among 0-4, it will run figures\n",
    "    print(promise)"
   ]
  },
  {
   "cell_type": "code",
   "execution_count": 6,
   "id": "05bc9523",
   "metadata": {},
   "outputs": [
    {
     "name": "stdout",
     "output_type": "stream",
     "text": [
      "0\n",
      "1\n",
      "2\n",
      "3\n"
     ]
    }
   ],
   "source": [
    "#While loop\n",
    "count = 0                  #count is initially defined as 0\n",
    "while count <= 3:          #conditional statement:count<=3\n",
    "  # Loop Body\n",
    "  print(count)\n",
    "  count += 1               #inside the loop body, the count is increased\n",
    "#conditional statement will stop when the count is 4"
   ]
  },
  {
   "cell_type": "code",
   "execution_count": 7,
   "id": "550bc592",
   "metadata": {},
   "outputs": [
    {
     "name": "stdout",
     "output_type": "stream",
     "text": [
      "1\n",
      "2\n",
      "3\n",
      "4\n",
      "5\n",
      "6\n",
      "7\n",
      "8\n",
      "9\n",
      "10\n"
     ]
    }
   ],
   "source": [
    "i = 1\n",
    "while i <= 10:\n",
    "    print(i)\n",
    "    i += 1         #Notice Indentation"
   ]
  },
  {
   "cell_type": "code",
   "execution_count": 8,
   "id": "28dd4f3e",
   "metadata": {},
   "outputs": [
    {
     "name": "stdout",
     "output_type": "stream",
     "text": [
      "0 b\n",
      "1 a\n",
      "2 n\n",
      "3 a\n",
      "4 n\n",
      "5 a\n"
     ]
    }
   ],
   "source": [
    "fruit = 'banana'\n",
    "index = 0\n",
    "while index < len(fruit):\n",
    "    letter = fruit[index]\n",
    "    print(index,letter)\n",
    "    index+=1"
   ]
  },
  {
   "cell_type": "code",
   "execution_count": 9,
   "id": "816bc8a0",
   "metadata": {},
   "outputs": [
    {
     "name": "stdout",
     "output_type": "stream",
     "text": [
      "milk\n",
      "sugar\n",
      "vanilla extract\n",
      "dough\n",
      "chocolate\n"
     ]
    }
   ],
   "source": [
    "#while loop\n",
    "ingredients = [\"milk\", \"sugar\", \"vanilla extract\", \"dough\", \"chocolate\"]\n",
    "length = len(ingredients)             #length will be 5 in this case\n",
    "index = 0                             #index starts at 0\n",
    " \n",
    "while index < length: \n",
    "#On the first iteration, we will be comparing the equivalent of 0 < 5 which will evaluate to True, and start the execution of our loop body.\n",
    "\n",
    "  print(ingredients[index])\n",
    "#the first iteration will print ingredients[0]\n",
    "  index += 1\n",
    "#increment index to access the next element in ingredients\n",
    "#each interation gets closer to making the conditional no longer true"
   ]
  },
  {
   "cell_type": "code",
   "execution_count": 10,
   "id": "58f4df9b",
   "metadata": {},
   "outputs": [
    {
     "name": "stdout",
     "output_type": "stream",
     "text": [
      "b\n",
      "a\n",
      "n\n",
      "a\n",
      "n\n",
      "a\n"
     ]
    }
   ],
   "source": [
    "fruit = 'banana'\n",
    "for letter in fruit:\n",
    "    print(letter)"
   ]
  },
  {
   "cell_type": "code",
   "execution_count": 11,
   "id": "2238b4db",
   "metadata": {},
   "outputs": [
    {
     "name": "stdout",
     "output_type": "stream",
     "text": [
      "hello!\n",
      "hello!\n",
      "hello!\n",
      "hello!\n"
     ]
    }
   ],
   "source": [
    "numbers = [2, 4, 6, 8]\n",
    "for number in numbers:\n",
    "  print(\"hello!\")"
   ]
  },
  {
   "cell_type": "code",
   "execution_count": 12,
   "id": "56e659f9",
   "metadata": {},
   "outputs": [
    {
     "name": "stdout",
     "output_type": "stream",
     "text": [
      "3\n"
     ]
    }
   ],
   "source": [
    "word = 'banana'\n",
    "count = 0\n",
    "for letter in word:\n",
    "    if letter == 'a':\n",
    "        count+=1\n",
    "print(count)"
   ]
  },
  {
   "cell_type": "markdown",
   "id": "dddd2b0c",
   "metadata": {},
   "source": [
    "# Indefinite loop"
   ]
  },
  {
   "cell_type": "code",
   "execution_count": null,
   "id": "bf98d78b",
   "metadata": {},
   "outputs": [],
   "source": [
    "my_favorite_numbers = [4, 8, 15, 16, 42]\n",
    " \n",
    "for number in my_favorite_numbers:\n",
    "  my_favorite_numbers.append(1)\n",
    "# Every time we enter the loop, we add a 1 to the end of the list that we are iterating through. As a result, we never make it to the end of the list. "
   ]
  },
  {
   "cell_type": "code",
   "execution_count": null,
   "id": "7be73152",
   "metadata": {},
   "outputs": [],
   "source": [
    "#search for the value\n",
    "tems_on_sale = [\"blue shirt\", \"striped socks\", \"knit dress\", \"red headband\", \"dinosaur onesie\"]\n",
    "for item in items_on_sale:\n",
    "    if item == \"knit dress\":\n",
    "print(\"Found it\")\n",
    "#the loop will keep running as there is no 'knit dress'."
   ]
  },
  {
   "cell_type": "markdown",
   "id": "e11416de",
   "metadata": {},
   "source": [
    "# Break loop"
   ]
  },
  {
   "cell_type": "code",
   "execution_count": 13,
   "id": "655d18e8",
   "metadata": {},
   "outputs": [
    {
     "name": "stdout",
     "output_type": "stream",
     "text": [
      "Checking the sale list!\n",
      "blue shirt\n",
      "striped socks\n",
      "knit dress\n",
      "End of search!\n"
     ]
    }
   ],
   "source": [
    "items_on_sale = [\"blue shirt\", \"striped socks\", \"knit dress\", \"red headband\", \"dinosaur onesie\"]\n",
    " \n",
    "print(\"Checking the sale list!\")\n",
    " \n",
    "for item in items_on_sale:\n",
    "    print(item)\n",
    "    if item == \"knit dress\":break       #terminates the loop, so the rest of list didn't show\n",
    " \n",
    "print(\"End of search!\")"
   ]
  },
  {
   "cell_type": "code",
   "execution_count": 14,
   "id": "c47256ae",
   "metadata": {},
   "outputs": [
    {
     "name": "stdout",
     "output_type": "stream",
     "text": [
      "french_bulldog\n",
      "dalmatian\n",
      "They have the dog I want!\n"
     ]
    }
   ],
   "source": [
    "dog_breeds_available_for_adoption = [\"french_bulldog\", \"dalmatian\", \"shihtzu\", \"poodle\", \"collie\"]\n",
    "dog_breed_I_want = \"dalmatian\"\n",
    "\n",
    "for dog_breed in dog_breeds_available_for_adoption:    #loop list\n",
    "  print(dog_breed)\n",
    "  if dog_breed == dog_breed_I_want:\n",
    "    print(\"They have the dog I want!\")\n",
    "    break"
   ]
  },
  {
   "cell_type": "code",
   "execution_count": 15,
   "id": "99dca873",
   "metadata": {},
   "outputs": [
    {
     "name": "stdout",
     "output_type": "stream",
     "text": [
      "1\n",
      "1\n"
     ]
    }
   ],
   "source": [
    "numbers = [1, 1, 2, 3]\n",
    "for number in numbers:\n",
    "  if number % 2 == 0:       #loop stops when 2 is reached;exclude 2\n",
    "    break\n",
    "  print(number)"
   ]
  },
  {
   "cell_type": "markdown",
   "id": "7cbd06c0",
   "metadata": {},
   "source": [
    "# Continue loop"
   ]
  },
  {
   "cell_type": "markdown",
   "id": "11020a92",
   "metadata": {},
   "source": [
    "Skip the current iteration of the loop"
   ]
  },
  {
   "cell_type": "code",
   "execution_count": 16,
   "id": "32c92ec1",
   "metadata": {},
   "outputs": [
    {
     "name": "stdout",
     "output_type": "stream",
     "text": [
      "1\n",
      "2\n",
      "4\n",
      "5\n",
      "2\n"
     ]
    }
   ],
   "source": [
    "#Find the positive integer:\n",
    "big_number_list = [1, 2, -1, 4, -5, 5, 2, -9]\n",
    "\n",
    "for i in big_number_list:\n",
    "  if i <= 0:\n",
    "    continue\n",
    "  print(i)          #Find the i that meets requirements"
   ]
  },
  {
   "cell_type": "markdown",
   "id": "74ecc644",
   "metadata": {},
   "source": [
    "# Nested loops"
   ]
  },
  {
   "cell_type": "code",
   "execution_count": 17,
   "id": "14716502",
   "metadata": {},
   "outputs": [
    {
     "name": "stdout",
     "output_type": "stream",
     "text": [
      "Ava\n",
      "Samantha\n",
      "James\n",
      "Lucille\n",
      "Zed\n",
      "Edgar\n",
      "Gabriel\n"
     ]
    }
   ],
   "source": [
    "#Print each student in the list\n",
    "project_teams = [[\"Ava\", \"Samantha\", \"James\"], [\"Lucille\", \"Zed\"], [\"Edgar\", \"Gabriel\"]]\n",
    "# Loop through each sublist\n",
    "for team in project_teams:\n",
    "  # Loop elements in each sublist\n",
    "  for student in team:\n",
    "    print(student)"
   ]
  },
  {
   "cell_type": "code",
   "execution_count": 18,
   "id": "9cbead21",
   "metadata": {},
   "outputs": [
    {
     "name": "stdout",
     "output_type": "stream",
     "text": [
      "[12, 17, 22]\n",
      "[2, 10, 3]\n",
      "[5, 12, 13]\n",
      "96\n"
     ]
    }
   ],
   "source": [
    "sales_data = [[12, 17, 22], [2, 10, 3], [5, 12, 13]]      #Three locations\n",
    "\n",
    "#Need to Sum up the total amount of scoops_sold\n",
    "scoops_sold = 0  \n",
    "\n",
    "#Define and set scoops_sold to 0\n",
    "for location in sales_data:\n",
    "#Loop through the sales_data\n",
    "    print(location)\n",
    "    for element in location:\n",
    "#Loop through sublist of location\n",
    "      scoops_sold = element +scoops_sold\n",
    "print(scoops_sold)"
   ]
  },
  {
   "cell_type": "markdown",
   "id": "96c80538",
   "metadata": {},
   "source": [
    "# List Comprehension"
   ]
  },
  {
   "cell_type": "markdown",
   "id": "14449251",
   "metadata": {},
   "source": [
    "To start, let’s say we had a list of integers and wanted to create a list where each element is doubled. We could accomplish this using a for loop and a new list called doubled:"
   ]
  },
  {
   "cell_type": "code",
   "execution_count": 19,
   "id": "b5a1ba71",
   "metadata": {},
   "outputs": [
    {
     "name": "stdout",
     "output_type": "stream",
     "text": [
      "[4, -2, 158, 66, -90]\n"
     ]
    }
   ],
   "source": [
    "numbers = [2, -1, 79, 33, -45]\n",
    "doubled = []\n",
    " \n",
    "for number in numbers:\n",
    "  doubled.append(number * 2)\n",
    " \n",
    "print(doubled)"
   ]
  },
  {
   "cell_type": "code",
   "execution_count": 20,
   "id": "c7ba72ae",
   "metadata": {},
   "outputs": [
    {
     "name": "stdout",
     "output_type": "stream",
     "text": [
      "[4, -2, 158, 66, -90]\n"
     ]
    }
   ],
   "source": [
    "numbers = [2, -1, 79, 33, -45]\n",
    "doubled = [num * 2 for num in numbers]\n",
    "#new_list = [<expression> for <element> in <collection>]\n",
    "print(doubled)"
   ]
  },
  {
   "cell_type": "markdown",
   "id": "64c5310f",
   "metadata": {},
   "source": [
    "Suppose we wanted to double only our negative numbers from our previous numbers list."
   ]
  },
  {
   "cell_type": "code",
   "execution_count": 21,
   "id": "5dc82acd",
   "metadata": {},
   "outputs": [
    {
     "name": "stdout",
     "output_type": "stream",
     "text": [
      "[-2, -90]\n"
     ]
    }
   ],
   "source": [
    "numbers = [2, -1, 79, 33, -45]\n",
    "only_negative_doubled = []\n",
    " \n",
    "for num in numbers:\n",
    "  if num < 0: \n",
    "    only_negative_doubled.append(num * 2)\n",
    " \n",
    "print(only_negative_doubled) "
   ]
  },
  {
   "cell_type": "code",
   "execution_count": 22,
   "id": "efd8a450",
   "metadata": {},
   "outputs": [
    {
     "name": "stdout",
     "output_type": "stream",
     "text": [
      "[-2, -90]\n"
     ]
    }
   ],
   "source": [
    "numbers = [2, -1, 79, 33, -45]\n",
    "negative_doubled = [num * 2 for num in numbers if num < 0]    #Condition is put in the end\n",
    "print(negative_doubled)"
   ]
  },
  {
   "cell_type": "code",
   "execution_count": 23,
   "id": "338122ca",
   "metadata": {},
   "outputs": [
    {
     "name": "stdout",
     "output_type": "stream",
     "text": [
      "[6, -2, 237, 99, -90]\n"
     ]
    }
   ],
   "source": [
    "numbers = [2, -1, 79, 33, -45]\n",
    "doubled = [num * 2 if num < 0 else num * 3 for num in numbers ]\n",
    "print(doubled)"
   ]
  },
  {
   "cell_type": "code",
   "execution_count": 24,
   "id": "51b93880",
   "metadata": {},
   "outputs": [
    {
     "name": "stdout",
     "output_type": "stream",
     "text": [
      "[-1, 0, 1, 2, 3]\n"
     ]
    }
   ],
   "source": [
    "a = [i-1 for i in range(5)]    #0-4\n",
    "print(a)"
   ]
  },
  {
   "cell_type": "markdown",
   "id": "9310bbae",
   "metadata": {},
   "source": [
    "# Slicing Strings"
   ]
  },
  {
   "cell_type": "code",
   "execution_count": 25,
   "id": "4223b023",
   "metadata": {},
   "outputs": [
    {
     "name": "stdout",
     "output_type": "stream",
     "text": [
      "Monty Python\n"
     ]
    }
   ],
   "source": [
    "s = 'Monty Python'\n",
    "print(s[:])"
   ]
  },
  {
   "cell_type": "code",
   "execution_count": 26,
   "id": "e76e343b",
   "metadata": {},
   "outputs": [
    {
     "name": "stdout",
     "output_type": "stream",
     "text": [
      "onty \n"
     ]
    }
   ],
   "source": [
    "s = 'Monty Python'\n",
    "print(s[1:6])"
   ]
  },
  {
   "cell_type": "code",
   "execution_count": 27,
   "id": "1c827a62",
   "metadata": {},
   "outputs": [
    {
     "name": "stdout",
     "output_type": "stream",
     "text": [
      "Monty \n"
     ]
    }
   ],
   "source": [
    "s = 'Monty Python'\n",
    "print(s[:6])"
   ]
  },
  {
   "cell_type": "code",
   "execution_count": 28,
   "id": "844b98d9",
   "metadata": {},
   "outputs": [
    {
     "name": "stdout",
     "output_type": "stream",
     "text": [
      "nty Python\n"
     ]
    }
   ],
   "source": [
    "s = 'Monty Python'\n",
    "print(s[2:])"
   ]
  },
  {
   "cell_type": "code",
   "execution_count": 29,
   "id": "748e1e02",
   "metadata": {},
   "outputs": [
    {
     "name": "stdout",
     "output_type": "stream",
     "text": [
      "-1\n"
     ]
    }
   ],
   "source": [
    "fruit = 'banana'\n",
    "nz = fruit.find('nz')     #if the substring is not found, found()returns -1.\n",
    "print(nz)"
   ]
  },
  {
   "cell_type": "code",
   "execution_count": 30,
   "id": "96627e41",
   "metadata": {},
   "outputs": [
    {
     "name": "stdout",
     "output_type": "stream",
     "text": [
      "hello Jane\n"
     ]
    }
   ],
   "source": [
    "a = 'hello bob'\n",
    "b = a.replace('bob','Jane')\n",
    "print(b)"
   ]
  },
  {
   "cell_type": "code",
   "execution_count": 31,
   "id": "1f4dd4ec",
   "metadata": {},
   "outputs": [
    {
     "name": "stdout",
     "output_type": "stream",
     "text": [
      "heiio bob\n"
     ]
    }
   ],
   "source": [
    "a = 'hello bob'\n",
    "b = a.replace('l', 'i')\n",
    "print(b)"
   ]
  },
  {
   "cell_type": "markdown",
   "id": "4e8f013a",
   "metadata": {},
   "source": [
    "# Remove Whitespace"
   ]
  },
  {
   "cell_type": "code",
   "execution_count": 32,
   "id": "af3b5f8f",
   "metadata": {},
   "outputs": [
    {
     "name": "stdout",
     "output_type": "stream",
     "text": [
      "hello bob\n"
     ]
    }
   ],
   "source": [
    "a = 'hello bob '\n",
    "b = a.rstrip()   #remove whitespace on the right side\n",
    "print(b)"
   ]
  },
  {
   "cell_type": "code",
   "execution_count": 33,
   "id": "693663e2",
   "metadata": {},
   "outputs": [
    {
     "name": "stdout",
     "output_type": "stream",
     "text": [
      "hello bob\n"
     ]
    }
   ],
   "source": [
    "a = ' hello bob '\n",
    "b = a. strip()   #remove whitespace on both sides\n",
    "print(b)"
   ]
  },
  {
   "cell_type": "code",
   "execution_count": 34,
   "id": "d585b4f8",
   "metadata": {},
   "outputs": [
    {
     "data": {
      "text/plain": [
       "int"
      ]
     },
     "execution_count": 34,
     "metadata": {},
     "output_type": "execute_result"
    }
   ],
   "source": [
    "type(len('banana'))"
   ]
  },
  {
   "cell_type": "code",
   "execution_count": 35,
   "id": "e717fe97",
   "metadata": {},
   "outputs": [
    {
     "name": "stdout",
     "output_type": "stream",
     "text": [
      "42\n"
     ]
    }
   ],
   "source": [
    "print(len('banana')*7)"
   ]
  },
  {
   "cell_type": "code",
   "execution_count": 36,
   "id": "c1f05aa2",
   "metadata": {},
   "outputs": [
    {
     "name": "stdout",
     "output_type": "stream",
     "text": [
      "12\n"
     ]
    }
   ],
   "source": [
    "data = 'From stephen.marquard@uct.ac.za Sat Jan  5 09:14:16 2008'\n",
    "pos = data.find('.')    #. is position here\n",
    "print(pos)"
   ]
  },
  {
   "cell_type": "code",
   "execution_count": 37,
   "id": "c0ddb14d",
   "metadata": {},
   "outputs": [
    {
     "name": "stdout",
     "output_type": "stream",
     "text": [
      "7\n"
     ]
    }
   ],
   "source": [
    "data = 'From stephen.marquard@uct.ac.za Sat Jan  5 09:14:16 2008'\n",
    "pos = data.find('e')    #e is position here\n",
    "print(pos)"
   ]
  },
  {
   "cell_type": "code",
   "execution_count": 38,
   "id": "45ecf6ac",
   "metadata": {},
   "outputs": [
    {
     "name": "stdout",
     "output_type": "stream",
     "text": [
      ".ma\n"
     ]
    }
   ],
   "source": [
    "data = 'From stephen.marquard@uct.ac.za Sat Jan  5 09:14:16 2008'\n",
    "pos = data.find('.')\n",
    "print(data[pos:pos+3])"
   ]
  },
  {
   "cell_type": "code",
   "execution_count": 39,
   "id": "ce4ecb1b",
   "metadata": {},
   "outputs": [
    {
     "name": "stdout",
     "output_type": "stream",
     "text": [
      "23\n"
     ]
    }
   ],
   "source": [
    "text = \"X-DSPAM-Confidence:    0.8475\"\n",
    "a = text.find('0.8475')\n",
    "print(a)"
   ]
  },
  {
   "cell_type": "code",
   "execution_count": 40,
   "id": "ec214d3c",
   "metadata": {},
   "outputs": [
    {
     "name": "stdout",
     "output_type": "stream",
     "text": [
      "0.8475\n"
     ]
    }
   ],
   "source": [
    "print(text[23:])"
   ]
  },
  {
   "cell_type": "markdown",
   "id": "133734ff",
   "metadata": {},
   "source": [
    "# Read Through Files"
   ]
  },
  {
   "cell_type": "code",
   "execution_count": null,
   "id": "d06d507e",
   "metadata": {},
   "outputs": [],
   "source": [
    "fname = input('Enter the file name : ') # file name is mbox-short.txt\n",
    "try:\n",
    "    fopen = open(fname,'r') # open the file to read through it\n",
    "except:\n",
    "    print('Wrong file name') #if user input wrong file name display 'Wrong file name'\n",
    "    quit()\n",
    "count = 0  # variable for number of 'X-DSPAM-Confidence:' lines\n",
    "total = 0  # variable for the sum of the floating numbers\n",
    "\n",
    "for line in fopen: # start the loop to go through file line by line\n",
    "    if line.startswith('X-DSPAM-Confidence:'): # check whether a line starts with 'X-DSPAM-Confidence:'\n",
    "        count = count + 1 # counting total no of lines starts with 'X-DSPAM-Confidence:'\n",
    "        strip = line.strip() # remove whitespace between selected lines\n",
    "        nline = strip.find(':') #find out where is ':' in selected line\n",
    "        wstring = strip[nline+2:] # extract the string decimal value\n",
    "        fstring = float(wstring) # convert decimal value to float\n",
    "        total = total + fstring  # add the whole float values and put sum in to variable named 'total'\n",
    "print('Average spam confidence:',total/count) # printout the average value"
   ]
  },
  {
   "cell_type": "code",
   "execution_count": 41,
   "id": "79d836d4",
   "metadata": {},
   "outputs": [
    {
     "name": "stdout",
     "output_type": "stream",
     "text": [
      "Happy New Year:  C\n"
     ]
    }
   ],
   "source": [
    "friends = ['A','B','C']\n",
    "for i in range(len(friends)):\n",
    "    friend = friends[i]\n",
    "print('Happy New Year: ', friend)"
   ]
  },
  {
   "cell_type": "markdown",
   "id": "3458dc2c",
   "metadata": {},
   "source": [
    "list of words using the split() method. The program should build a list of words. For each word on each line check to see if the word is already in the list and if not append it to the list. When the program completes, sort and print the resulting words in alphabetical order."
   ]
  },
  {
   "cell_type": "code",
   "execution_count": null,
   "id": "663a0836",
   "metadata": {},
   "outputs": [],
   "source": [
    "fname = raw_input(\"Enter file name: \")\n",
    "fh = open(fname)\n",
    "lst = list()                       # list for the desired output\n",
    "for line in fh:                    # to read every line of file romeo.txt\n",
    "    word= line.rstrip().split()    # to eliminate the unwanted blanks and turn the line into a list of words\n",
    "    for element in word:           # check every element in word    \n",
    "        if element in lst:         # if element is in the list\n",
    "            continue               # do nothing\n",
    "        else :                     # else if element is not in the list\n",
    "            lst.append(element)    # append     \n",
    "lst.sort()                         # sort the list (de-indent indicates that you sort when the loop ends)\n",
    "print(lst)                         # print the list\n"
   ]
  },
  {
   "cell_type": "markdown",
   "id": "4f40efb0",
   "metadata": {},
   "source": [
    "# Projects - Carly's Clippers"
   ]
  },
  {
   "cell_type": "code",
   "execution_count": 55,
   "id": "4f43973d",
   "metadata": {},
   "outputs": [
    {
     "name": "stdout",
     "output_type": "stream",
     "text": [
      "255\n",
      "31.875\n",
      "New prices are:[25, 20, 35, 15, 15, 30, 45, 30]\n",
      "Total revenue:1085\n",
      "Total average revenue: $155.0\n",
      "['bouffant', 'pixie', 'crew', 'bowl']\n"
     ]
    }
   ],
   "source": [
    "hairstyles = [\"bouffant\", \"pixie\", \"dreadlocks\", \"crew\", \"bowl\", \"bob\", \"mohawk\", \"flattop\"]\n",
    "#name of the cuts offered by Carly's\n",
    "\n",
    "prices = [30, 25, 40, 20, 20, 35, 50, 35]\n",
    "#Price of each hairstyles\n",
    "\n",
    "last_week = [2, 3, 5, 8, 4, 4, 6, 2]\n",
    "#the number of purchases for each hairstyle type in the last week\n",
    "\n",
    "total_price = 0\n",
    "for price in prices:\n",
    "    total_price += price\n",
    "print(total_price)\n",
    "#Calucute the total price\n",
    "\n",
    "average_price = total_price/len(prices)\n",
    "print(average_price)\n",
    "#Calculate the average price\n",
    "\n",
    "new_prices = [price-5 for price in prices]\n",
    "print('New prices are:' + str(new_prices))\n",
    "#new_price is reduced by 5\n",
    "\n",
    "total_revenue = 0\n",
    "for i in range(len(hairstyles)):\n",
    "  total_revenue += prices[i]*last_week[i]\n",
    "print('Total revenue:'+ str(total_revenue))\n",
    "#Calculate the new revenue\n",
    "\n",
    "average_daily_revenue = total_revenue/7\n",
    "print(f'Total average revenue: ${average_daily_revenue}')\n",
    "\n",
    "cuts_under_30 = [hairstyles[i]for i in range(len(hairstyles))if new_prices[i] < 30]\n",
    "#Find hairstyles of new_prices are less than 30\n",
    "print(cuts_under_30)"
   ]
  }
 ],
 "metadata": {
  "kernelspec": {
   "display_name": "Python 3 (ipykernel)",
   "language": "python",
   "name": "python3"
  },
  "language_info": {
   "codemirror_mode": {
    "name": "ipython",
    "version": 3
   },
   "file_extension": ".py",
   "mimetype": "text/x-python",
   "name": "python",
   "nbconvert_exporter": "python",
   "pygments_lexer": "ipython3",
   "version": "3.9.7"
  }
 },
 "nbformat": 4,
 "nbformat_minor": 5
}
